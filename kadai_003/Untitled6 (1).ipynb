{
  "nbformat": 4,
  "nbformat_minor": 0,
  "metadata": {
    "colab": {
      "provenance": []
    },
    "kernelspec": {
      "name": "python3",
      "display_name": "Python 3"
    },
    "language_info": {
      "name": "python"
    }
  },
  "cells": [
    {
      "cell_type": "code",
      "source": [
        "import numpy as np\n",
        "\n",
        "A = np.array([[0,1],[2,3],[4,5]])\n",
        "\n",
        "B = np.array([[0,1,2,3],[4,5,6,7]])\n",
        "\n",
        "C = np.dot(A,B)\n",
        "\n",
        "print(\"行列A×Bの結果:\")\n",
        "print(C)\n",
        "\n",
        "max_value = C.max()\n",
        "print(\"最大値:\",max_value)"
      ],
      "metadata": {
        "colab": {
          "base_uri": "https://localhost:8080/"
        },
        "id": "rVX_Y6dAvrk7",
        "outputId": "a729bb3b-800e-439e-8668-761d3092dcbc"
      },
      "execution_count": 9,
      "outputs": [
        {
          "output_type": "stream",
          "name": "stdout",
          "text": [
            "行列A×Bの結果:\n",
            "[[ 4  5  6  7]\n",
            " [12 17 22 27]\n",
            " [20 29 38 47]]\n",
            "最大値: 47\n"
          ]
        }
      ]
    },
    {
      "cell_type": "code",
      "source": [],
      "metadata": {
        "id": "6YGgZLWAynaf"
      },
      "execution_count": 7,
      "outputs": []
    }
  ]
}